{
  "nbformat": 4,
  "nbformat_minor": 0,
  "metadata": {
    "colab": {
      "provenance": [],
      "authorship_tag": "ABX9TyO4FFKVqJ1VRQeyUeRJzj7n",
      "include_colab_link": true
    },
    "kernelspec": {
      "name": "python3",
      "display_name": "Python 3"
    },
    "language_info": {
      "name": "python"
    }
  },
  "cells": [
    {
      "cell_type": "markdown",
      "metadata": {
        "id": "view-in-github",
        "colab_type": "text"
      },
      "source": [
        "<a href=\"https://colab.research.google.com/github/gabrierw/portafoliosena/blob/main/V_2_textmining.ipynb\" target=\"_parent\"><img src=\"https://colab.research.google.com/assets/colab-badge.svg\" alt=\"Open In Colab\"/></a>"
      ]
    },
    {
      "cell_type": "markdown",
      "source": [
        "### Importar librerias.\n",
        "### pandas:Libreria para utilizar archivos excel.\n",
        "### numpy: Libreria para utilizar funciones matematicas.\n",
        "### matploytlib.pylot: Realizar graficas con los datos.\n",
        "### google.colab:Cargar archivos desde el escritorio."
      ],
      "metadata": {
        "id": "toVhA0gD5fXH"
      }
    },
    {
      "cell_type": "code",
      "execution_count": 1,
      "metadata": {
        "id": "-ga9blBPratV"
      },
      "outputs": [],
      "source": [
        "%config IPCompleter.greedy=True\n",
        "import pandas as pd\n",
        "import numpy as np\n",
        "import xlrd\n",
        "import seaborn as sb\n",
        "import matplotlib.pyplot as plt\n",
        "\n",
        "from matplotlib.ticker import PercentFormatter\n",
        "from google.colab import files"
      ]
    },
    {
      "cell_type": "markdown",
      "source": [
        "###Importar archivos desde el escritorio"
      ],
      "metadata": {
        "id": "MwrezTVI5lJ1"
      }
    },
    {
      "cell_type": "code",
      "source": [
        "db=files.upload()"
      ],
      "metadata": {
        "colab": {
          "base_uri": "https://localhost:8080/",
          "height": 73
        },
        "id": "8oAIiC-95IOR",
        "outputId": "a71b3d98-7c29-4940-e583-cadaf1672102"
      },
      "execution_count": 2,
      "outputs": [
        {
          "output_type": "display_data",
          "data": {
            "text/plain": [
              "<IPython.core.display.HTML object>"
            ],
            "text/html": [
              "\n",
              "     <input type=\"file\" id=\"files-bfb2226b-fefe-4b9b-8c1f-9c880a8a3df0\" name=\"files[]\" multiple disabled\n",
              "        style=\"border:none\" />\n",
              "     <output id=\"result-bfb2226b-fefe-4b9b-8c1f-9c880a8a3df0\">\n",
              "      Upload widget is only available when the cell has been executed in the\n",
              "      current browser session. Please rerun this cell to enable.\n",
              "      </output>\n",
              "      <script>// Copyright 2017 Google LLC\n",
              "//\n",
              "// Licensed under the Apache License, Version 2.0 (the \"License\");\n",
              "// you may not use this file except in compliance with the License.\n",
              "// You may obtain a copy of the License at\n",
              "//\n",
              "//      http://www.apache.org/licenses/LICENSE-2.0\n",
              "//\n",
              "// Unless required by applicable law or agreed to in writing, software\n",
              "// distributed under the License is distributed on an \"AS IS\" BASIS,\n",
              "// WITHOUT WARRANTIES OR CONDITIONS OF ANY KIND, either express or implied.\n",
              "// See the License for the specific language governing permissions and\n",
              "// limitations under the License.\n",
              "\n",
              "/**\n",
              " * @fileoverview Helpers for google.colab Python module.\n",
              " */\n",
              "(function(scope) {\n",
              "function span(text, styleAttributes = {}) {\n",
              "  const element = document.createElement('span');\n",
              "  element.textContent = text;\n",
              "  for (const key of Object.keys(styleAttributes)) {\n",
              "    element.style[key] = styleAttributes[key];\n",
              "  }\n",
              "  return element;\n",
              "}\n",
              "\n",
              "// Max number of bytes which will be uploaded at a time.\n",
              "const MAX_PAYLOAD_SIZE = 100 * 1024;\n",
              "\n",
              "function _uploadFiles(inputId, outputId) {\n",
              "  const steps = uploadFilesStep(inputId, outputId);\n",
              "  const outputElement = document.getElementById(outputId);\n",
              "  // Cache steps on the outputElement to make it available for the next call\n",
              "  // to uploadFilesContinue from Python.\n",
              "  outputElement.steps = steps;\n",
              "\n",
              "  return _uploadFilesContinue(outputId);\n",
              "}\n",
              "\n",
              "// This is roughly an async generator (not supported in the browser yet),\n",
              "// where there are multiple asynchronous steps and the Python side is going\n",
              "// to poll for completion of each step.\n",
              "// This uses a Promise to block the python side on completion of each step,\n",
              "// then passes the result of the previous step as the input to the next step.\n",
              "function _uploadFilesContinue(outputId) {\n",
              "  const outputElement = document.getElementById(outputId);\n",
              "  const steps = outputElement.steps;\n",
              "\n",
              "  const next = steps.next(outputElement.lastPromiseValue);\n",
              "  return Promise.resolve(next.value.promise).then((value) => {\n",
              "    // Cache the last promise value to make it available to the next\n",
              "    // step of the generator.\n",
              "    outputElement.lastPromiseValue = value;\n",
              "    return next.value.response;\n",
              "  });\n",
              "}\n",
              "\n",
              "/**\n",
              " * Generator function which is called between each async step of the upload\n",
              " * process.\n",
              " * @param {string} inputId Element ID of the input file picker element.\n",
              " * @param {string} outputId Element ID of the output display.\n",
              " * @return {!Iterable<!Object>} Iterable of next steps.\n",
              " */\n",
              "function* uploadFilesStep(inputId, outputId) {\n",
              "  const inputElement = document.getElementById(inputId);\n",
              "  inputElement.disabled = false;\n",
              "\n",
              "  const outputElement = document.getElementById(outputId);\n",
              "  outputElement.innerHTML = '';\n",
              "\n",
              "  const pickedPromise = new Promise((resolve) => {\n",
              "    inputElement.addEventListener('change', (e) => {\n",
              "      resolve(e.target.files);\n",
              "    });\n",
              "  });\n",
              "\n",
              "  const cancel = document.createElement('button');\n",
              "  inputElement.parentElement.appendChild(cancel);\n",
              "  cancel.textContent = 'Cancel upload';\n",
              "  const cancelPromise = new Promise((resolve) => {\n",
              "    cancel.onclick = () => {\n",
              "      resolve(null);\n",
              "    };\n",
              "  });\n",
              "\n",
              "  // Wait for the user to pick the files.\n",
              "  const files = yield {\n",
              "    promise: Promise.race([pickedPromise, cancelPromise]),\n",
              "    response: {\n",
              "      action: 'starting',\n",
              "    }\n",
              "  };\n",
              "\n",
              "  cancel.remove();\n",
              "\n",
              "  // Disable the input element since further picks are not allowed.\n",
              "  inputElement.disabled = true;\n",
              "\n",
              "  if (!files) {\n",
              "    return {\n",
              "      response: {\n",
              "        action: 'complete',\n",
              "      }\n",
              "    };\n",
              "  }\n",
              "\n",
              "  for (const file of files) {\n",
              "    const li = document.createElement('li');\n",
              "    li.append(span(file.name, {fontWeight: 'bold'}));\n",
              "    li.append(span(\n",
              "        `(${file.type || 'n/a'}) - ${file.size} bytes, ` +\n",
              "        `last modified: ${\n",
              "            file.lastModifiedDate ? file.lastModifiedDate.toLocaleDateString() :\n",
              "                                    'n/a'} - `));\n",
              "    const percent = span('0% done');\n",
              "    li.appendChild(percent);\n",
              "\n",
              "    outputElement.appendChild(li);\n",
              "\n",
              "    const fileDataPromise = new Promise((resolve) => {\n",
              "      const reader = new FileReader();\n",
              "      reader.onload = (e) => {\n",
              "        resolve(e.target.result);\n",
              "      };\n",
              "      reader.readAsArrayBuffer(file);\n",
              "    });\n",
              "    // Wait for the data to be ready.\n",
              "    let fileData = yield {\n",
              "      promise: fileDataPromise,\n",
              "      response: {\n",
              "        action: 'continue',\n",
              "      }\n",
              "    };\n",
              "\n",
              "    // Use a chunked sending to avoid message size limits. See b/62115660.\n",
              "    let position = 0;\n",
              "    do {\n",
              "      const length = Math.min(fileData.byteLength - position, MAX_PAYLOAD_SIZE);\n",
              "      const chunk = new Uint8Array(fileData, position, length);\n",
              "      position += length;\n",
              "\n",
              "      const base64 = btoa(String.fromCharCode.apply(null, chunk));\n",
              "      yield {\n",
              "        response: {\n",
              "          action: 'append',\n",
              "          file: file.name,\n",
              "          data: base64,\n",
              "        },\n",
              "      };\n",
              "\n",
              "      let percentDone = fileData.byteLength === 0 ?\n",
              "          100 :\n",
              "          Math.round((position / fileData.byteLength) * 100);\n",
              "      percent.textContent = `${percentDone}% done`;\n",
              "\n",
              "    } while (position < fileData.byteLength);\n",
              "  }\n",
              "\n",
              "  // All done.\n",
              "  yield {\n",
              "    response: {\n",
              "      action: 'complete',\n",
              "    }\n",
              "  };\n",
              "}\n",
              "\n",
              "scope.google = scope.google || {};\n",
              "scope.google.colab = scope.google.colab || {};\n",
              "scope.google.colab._files = {\n",
              "  _uploadFiles,\n",
              "  _uploadFilesContinue,\n",
              "};\n",
              "})(self);\n",
              "</script> "
            ]
          },
          "metadata": {}
        },
        {
          "output_type": "stream",
          "name": "stdout",
          "text": [
            "Saving Text-Mining.xlsm to Text-Mining.xlsm\n"
          ]
        }
      ]
    },
    {
      "cell_type": "markdown",
      "source": [
        "### Carga el archivo al dataframe y almacenar las hojas de calculo excel  por separado guardandolas en diferentes \"variables\".\n",
        "\n",
        "### variable={\n",
        "  ###\"descripcion\":\"Espacio en la memoria en el cual se puede \n",
        "  ### almacenar un  valor\",\n",
        "  ###\"tipos de valores\":[\"string\",\"init\",\"boolean\"]\n",
        "}\n"
      ],
      "metadata": {
        "id": "5a8J_LKt6UAQ"
      }
    },
    {
      "cell_type": "code",
      "source": [
        "z= pd.read_excel(db[\"Text-Mining.xlsm\"],sheet_name=\"BD\")\n",
        "w= pd.read_excel(db[\"Text-Mining.xlsm\"],sheet_name=\"TD2\")\n",
        "y= pd.read_excel(db[\"Text-Mining.xlsm\"],sheet_name=\"Diccionario\")"
      ],
      "metadata": {
        "id": "afT0DoJNkJjk"
      },
      "execution_count": 5,
      "outputs": []
    },
    {
      "cell_type": "code",
      "source": [
        "z.head(10)"
      ],
      "metadata": {
        "colab": {
          "base_uri": "https://localhost:8080/",
          "height": 4218
        },
        "id": "MW2htKSTnkxf",
        "outputId": "7fde3c18-1d4c-4a93-d7b6-6a7e07c96183"
      },
      "execution_count": null,
      "outputs": [
        {
          "output_type": "execute_result",
          "data": {
            "text/plain": [
              "    APERTURA  MES  DIA          RADICADO           TIPO_REQ  \\\n",
              "0 2023-02-18  NaN  NaN  1-64962447539615  Queja Facturación   \n",
              "1 2022-12-06  NaN  NaN  1-62588872328997  Queja Facturación   \n",
              "2 2022-12-03  NaN  NaN  1-62572176230457  Queja Facturación   \n",
              "3 2023-02-18  NaN  NaN  1-64962453810384  Queja Facturación   \n",
              "4 2023-02-18  NaN  NaN  1-64962443967980  Queja Facturación   \n",
              "5 2023-02-18  NaN  NaN  1-64962455717584  Queja Facturación   \n",
              "6 2023-02-18  NaN  NaN  1-64962455609953  Queja Facturación   \n",
              "7 2023-02-18  NaN  NaN  1-64962444652093  Queja Facturación   \n",
              "8 2023-02-18  NaN  NaN  1-64962452550865  Queja Facturación   \n",
              "9 2023-02-18  NaN  NaN  1-64962452917018  Queja Facturación   \n",
              "\n",
              "                           CAUSA                       SUBCAUSA  \\\n",
              "0  Facturación/Gestión de saldos  Error fact/Cobro descu. injus   \n",
              "1  Facturación/Gestión de saldos  Error fact/Cobro descu. injus   \n",
              "2  Facturación/Gestión de saldos  Error fact/Cobro descu. injus   \n",
              "3  Facturación/Gestión de saldos  Error fact/Cobro descu. injus   \n",
              "4  Facturación/Gestión de saldos             Vigencia de saldos   \n",
              "5  Facturación/Gestión de saldos  Error fact/Cobro descu. injus   \n",
              "6  Facturación/Gestión de saldos  Error fact/Cobro descu. injus   \n",
              "7  Facturación/Gestión de saldos  Error fact/Cobro descu. injus   \n",
              "8  Facturación/Gestión de saldos          Fraude en facturación   \n",
              "9  Facturación/Gestión de saldos  Error fact/Cobro descu. injus   \n",
              "\n",
              "                                             RESUMEN           TEXT_MINING  \\\n",
              "0  Empresa: JARAMILLO PATIÑO MARIA VICTORIA\\nNit:...  Incremento tarifario   \n",
              "1  NOMBRE CLARA PATRICIA ROJAS GAÑAN_x000D_\\nCEDU...        Sin_textmining   \n",
              "2  _x000D_\\nQueja Factura APC:_x000D_\\n_x000D_\\nD...  Incremento tarifario   \n",
              "3  AENCION ESPECIAL**_x000D_\\nPretensiones_x000D_...  Incremento tarifario   \n",
              "4  Número Contrato:\\t12118265_x000D_\\nNombre del ...    Retiro no oportuno   \n",
              "5  Cliente presenta inconformidad  debido a factu...   Canales adicionales   \n",
              "6  CLIENTE SE ACERCA RECLAMANDO USA EL SERVICIO D...                 Daños   \n",
              "7  usaurio desea que  le brinde informacion de la...        Sin_textmining   \n",
              "8  Motivo de la solicitud: Suplantación de identi...          Suplantación   \n",
              "9  USUARIO: LUZ AMANDA CARREÑO PUENTES_x000D_\\nCE...                 Daños   \n",
              "\n",
              "  MEDIO_INGRESO FUENTE_HOMOLOGADO   ESTADO                   ORIGEN  \\\n",
              "0      Teléfono        TELEFÓNICO  Abierto                 MEDELLIN   \n",
              "1    Presencial        PRESENCIAL  Cerrado  TIENDA VICTORIA_PEREIRA   \n",
              "2      Teléfono        TELEFÓNICO  Cerrado                 MEDELLIN   \n",
              "3    Web-Online           DIGITAL  Abierto                 MEDELLIN   \n",
              "4    Presencial        PRESENCIAL  Abierto                 AMERICAS   \n",
              "5    Presencial        PRESENCIAL  Abierto                   CUCUTA   \n",
              "6    Presencial        PRESENCIAL  Abierto          TIENDA PALMETTO   \n",
              "7    Presencial        PRESENCIAL  Abierto                 MEDELLIN   \n",
              "8         Carta             CARTA  Abierto               CASTELLANA   \n",
              "9    Presencial        PRESENCIAL  Abierto                   BOGOTA   \n",
              "\n",
              "  CREADO_POR      AGRUPADOR               LINEA NEGOCIO  \n",
              "0   MGRAJALP  1ra Instancia  Queja Factura Open    FIJO  \n",
              "1   EGOMEZVA  1ra Instancia   Queja Factura ETP    FIJO  \n",
              "2   MRUAHENA  1ra Instancia  Queja Factura Open    FIJO  \n",
              "3   LCASTANF  1ra Instancia  Queja Factura Open    FIJO  \n",
              "4   ECARRILA  1ra Instancia  Queja Factura Open    FIJO  \n",
              "5   JMARPENA  1ra Instancia  Queja Factura Open    FIJO  \n",
              "6   DZUNIGAR  1ra Instancia  Queja Factura Open    FIJO  \n",
              "7   DARBOLCA  1ra Instancia  Queja Factura Open    FIJO  \n",
              "8   IDBAROSI  1ra Instancia  Queja Factura Open    FIJO  \n",
              "9   JSALAZQU  1ra Instancia  Queja Factura Open    FIJO  "
            ],
            "text/html": [
              "\n",
              "  <div id=\"df-3b3560c7-8f25-4659-802c-31b16b2e4555\">\n",
              "    <div class=\"colab-df-container\">\n",
              "      <div>\n",
              "<style scoped>\n",
              "    .dataframe tbody tr th:only-of-type {\n",
              "        vertical-align: middle;\n",
              "    }\n",
              "\n",
              "    .dataframe tbody tr th {\n",
              "        vertical-align: top;\n",
              "    }\n",
              "\n",
              "    .dataframe thead th {\n",
              "        text-align: right;\n",
              "    }\n",
              "</style>\n",
              "<table border=\"1\" class=\"dataframe\">\n",
              "  <thead>\n",
              "    <tr style=\"text-align: right;\">\n",
              "      <th></th>\n",
              "      <th>APERTURA</th>\n",
              "      <th>MES</th>\n",
              "      <th>DIA</th>\n",
              "      <th>RADICADO</th>\n",
              "      <th>TIPO_REQ</th>\n",
              "      <th>CAUSA</th>\n",
              "      <th>SUBCAUSA</th>\n",
              "      <th>RESUMEN</th>\n",
              "      <th>TEXT_MINING</th>\n",
              "      <th>MEDIO_INGRESO</th>\n",
              "      <th>FUENTE_HOMOLOGADO</th>\n",
              "      <th>ESTADO</th>\n",
              "      <th>ORIGEN</th>\n",
              "      <th>CREADO_POR</th>\n",
              "      <th>AGRUPADOR</th>\n",
              "      <th>LINEA</th>\n",
              "      <th>NEGOCIO</th>\n",
              "    </tr>\n",
              "  </thead>\n",
              "  <tbody>\n",
              "    <tr>\n",
              "      <th>0</th>\n",
              "      <td>2023-02-18</td>\n",
              "      <td>NaN</td>\n",
              "      <td>NaN</td>\n",
              "      <td>1-64962447539615</td>\n",
              "      <td>Queja Facturación</td>\n",
              "      <td>Facturación/Gestión de saldos</td>\n",
              "      <td>Error fact/Cobro descu. injus</td>\n",
              "      <td>Empresa: JARAMILLO PATIÑO MARIA VICTORIA\\nNit:...</td>\n",
              "      <td>Incremento tarifario</td>\n",
              "      <td>Teléfono</td>\n",
              "      <td>TELEFÓNICO</td>\n",
              "      <td>Abierto</td>\n",
              "      <td>MEDELLIN</td>\n",
              "      <td>MGRAJALP</td>\n",
              "      <td>1ra Instancia</td>\n",
              "      <td>Queja Factura Open</td>\n",
              "      <td>FIJO</td>\n",
              "    </tr>\n",
              "    <tr>\n",
              "      <th>1</th>\n",
              "      <td>2022-12-06</td>\n",
              "      <td>NaN</td>\n",
              "      <td>NaN</td>\n",
              "      <td>1-62588872328997</td>\n",
              "      <td>Queja Facturación</td>\n",
              "      <td>Facturación/Gestión de saldos</td>\n",
              "      <td>Error fact/Cobro descu. injus</td>\n",
              "      <td>NOMBRE CLARA PATRICIA ROJAS GAÑAN_x000D_\\nCEDU...</td>\n",
              "      <td>Sin_textmining</td>\n",
              "      <td>Presencial</td>\n",
              "      <td>PRESENCIAL</td>\n",
              "      <td>Cerrado</td>\n",
              "      <td>TIENDA VICTORIA_PEREIRA</td>\n",
              "      <td>EGOMEZVA</td>\n",
              "      <td>1ra Instancia</td>\n",
              "      <td>Queja Factura ETP</td>\n",
              "      <td>FIJO</td>\n",
              "    </tr>\n",
              "    <tr>\n",
              "      <th>2</th>\n",
              "      <td>2022-12-03</td>\n",
              "      <td>NaN</td>\n",
              "      <td>NaN</td>\n",
              "      <td>1-62572176230457</td>\n",
              "      <td>Queja Facturación</td>\n",
              "      <td>Facturación/Gestión de saldos</td>\n",
              "      <td>Error fact/Cobro descu. injus</td>\n",
              "      <td>_x000D_\\nQueja Factura APC:_x000D_\\n_x000D_\\nD...</td>\n",
              "      <td>Incremento tarifario</td>\n",
              "      <td>Teléfono</td>\n",
              "      <td>TELEFÓNICO</td>\n",
              "      <td>Cerrado</td>\n",
              "      <td>MEDELLIN</td>\n",
              "      <td>MRUAHENA</td>\n",
              "      <td>1ra Instancia</td>\n",
              "      <td>Queja Factura Open</td>\n",
              "      <td>FIJO</td>\n",
              "    </tr>\n",
              "    <tr>\n",
              "      <th>3</th>\n",
              "      <td>2023-02-18</td>\n",
              "      <td>NaN</td>\n",
              "      <td>NaN</td>\n",
              "      <td>1-64962453810384</td>\n",
              "      <td>Queja Facturación</td>\n",
              "      <td>Facturación/Gestión de saldos</td>\n",
              "      <td>Error fact/Cobro descu. injus</td>\n",
              "      <td>AENCION ESPECIAL**_x000D_\\nPretensiones_x000D_...</td>\n",
              "      <td>Incremento tarifario</td>\n",
              "      <td>Web-Online</td>\n",
              "      <td>DIGITAL</td>\n",
              "      <td>Abierto</td>\n",
              "      <td>MEDELLIN</td>\n",
              "      <td>LCASTANF</td>\n",
              "      <td>1ra Instancia</td>\n",
              "      <td>Queja Factura Open</td>\n",
              "      <td>FIJO</td>\n",
              "    </tr>\n",
              "    <tr>\n",
              "      <th>4</th>\n",
              "      <td>2023-02-18</td>\n",
              "      <td>NaN</td>\n",
              "      <td>NaN</td>\n",
              "      <td>1-64962443967980</td>\n",
              "      <td>Queja Facturación</td>\n",
              "      <td>Facturación/Gestión de saldos</td>\n",
              "      <td>Vigencia de saldos</td>\n",
              "      <td>Número Contrato:\\t12118265_x000D_\\nNombre del ...</td>\n",
              "      <td>Retiro no oportuno</td>\n",
              "      <td>Presencial</td>\n",
              "      <td>PRESENCIAL</td>\n",
              "      <td>Abierto</td>\n",
              "      <td>AMERICAS</td>\n",
              "      <td>ECARRILA</td>\n",
              "      <td>1ra Instancia</td>\n",
              "      <td>Queja Factura Open</td>\n",
              "      <td>FIJO</td>\n",
              "    </tr>\n",
              "    <tr>\n",
              "      <th>5</th>\n",
              "      <td>2023-02-18</td>\n",
              "      <td>NaN</td>\n",
              "      <td>NaN</td>\n",
              "      <td>1-64962455717584</td>\n",
              "      <td>Queja Facturación</td>\n",
              "      <td>Facturación/Gestión de saldos</td>\n",
              "      <td>Error fact/Cobro descu. injus</td>\n",
              "      <td>Cliente presenta inconformidad  debido a factu...</td>\n",
              "      <td>Canales adicionales</td>\n",
              "      <td>Presencial</td>\n",
              "      <td>PRESENCIAL</td>\n",
              "      <td>Abierto</td>\n",
              "      <td>CUCUTA</td>\n",
              "      <td>JMARPENA</td>\n",
              "      <td>1ra Instancia</td>\n",
              "      <td>Queja Factura Open</td>\n",
              "      <td>FIJO</td>\n",
              "    </tr>\n",
              "    <tr>\n",
              "      <th>6</th>\n",
              "      <td>2023-02-18</td>\n",
              "      <td>NaN</td>\n",
              "      <td>NaN</td>\n",
              "      <td>1-64962455609953</td>\n",
              "      <td>Queja Facturación</td>\n",
              "      <td>Facturación/Gestión de saldos</td>\n",
              "      <td>Error fact/Cobro descu. injus</td>\n",
              "      <td>CLIENTE SE ACERCA RECLAMANDO USA EL SERVICIO D...</td>\n",
              "      <td>Daños</td>\n",
              "      <td>Presencial</td>\n",
              "      <td>PRESENCIAL</td>\n",
              "      <td>Abierto</td>\n",
              "      <td>TIENDA PALMETTO</td>\n",
              "      <td>DZUNIGAR</td>\n",
              "      <td>1ra Instancia</td>\n",
              "      <td>Queja Factura Open</td>\n",
              "      <td>FIJO</td>\n",
              "    </tr>\n",
              "    <tr>\n",
              "      <th>7</th>\n",
              "      <td>2023-02-18</td>\n",
              "      <td>NaN</td>\n",
              "      <td>NaN</td>\n",
              "      <td>1-64962444652093</td>\n",
              "      <td>Queja Facturación</td>\n",
              "      <td>Facturación/Gestión de saldos</td>\n",
              "      <td>Error fact/Cobro descu. injus</td>\n",
              "      <td>usaurio desea que  le brinde informacion de la...</td>\n",
              "      <td>Sin_textmining</td>\n",
              "      <td>Presencial</td>\n",
              "      <td>PRESENCIAL</td>\n",
              "      <td>Abierto</td>\n",
              "      <td>MEDELLIN</td>\n",
              "      <td>DARBOLCA</td>\n",
              "      <td>1ra Instancia</td>\n",
              "      <td>Queja Factura Open</td>\n",
              "      <td>FIJO</td>\n",
              "    </tr>\n",
              "    <tr>\n",
              "      <th>8</th>\n",
              "      <td>2023-02-18</td>\n",
              "      <td>NaN</td>\n",
              "      <td>NaN</td>\n",
              "      <td>1-64962452550865</td>\n",
              "      <td>Queja Facturación</td>\n",
              "      <td>Facturación/Gestión de saldos</td>\n",
              "      <td>Fraude en facturación</td>\n",
              "      <td>Motivo de la solicitud: Suplantación de identi...</td>\n",
              "      <td>Suplantación</td>\n",
              "      <td>Carta</td>\n",
              "      <td>CARTA</td>\n",
              "      <td>Abierto</td>\n",
              "      <td>CASTELLANA</td>\n",
              "      <td>IDBAROSI</td>\n",
              "      <td>1ra Instancia</td>\n",
              "      <td>Queja Factura Open</td>\n",
              "      <td>FIJO</td>\n",
              "    </tr>\n",
              "    <tr>\n",
              "      <th>9</th>\n",
              "      <td>2023-02-18</td>\n",
              "      <td>NaN</td>\n",
              "      <td>NaN</td>\n",
              "      <td>1-64962452917018</td>\n",
              "      <td>Queja Facturación</td>\n",
              "      <td>Facturación/Gestión de saldos</td>\n",
              "      <td>Error fact/Cobro descu. injus</td>\n",
              "      <td>USUARIO: LUZ AMANDA CARREÑO PUENTES_x000D_\\nCE...</td>\n",
              "      <td>Daños</td>\n",
              "      <td>Presencial</td>\n",
              "      <td>PRESENCIAL</td>\n",
              "      <td>Abierto</td>\n",
              "      <td>BOGOTA</td>\n",
              "      <td>JSALAZQU</td>\n",
              "      <td>1ra Instancia</td>\n",
              "      <td>Queja Factura Open</td>\n",
              "      <td>FIJO</td>\n",
              "    </tr>\n",
              "  </tbody>\n",
              "</table>\n",
              "</div>\n",
              "      <button class=\"colab-df-convert\" onclick=\"convertToInteractive('df-3b3560c7-8f25-4659-802c-31b16b2e4555')\"\n",
              "              title=\"Convert this dataframe to an interactive table.\"\n",
              "              style=\"display:none;\">\n",
              "        \n",
              "  <svg xmlns=\"http://www.w3.org/2000/svg\" height=\"24px\"viewBox=\"0 0 24 24\"\n",
              "       width=\"24px\">\n",
              "    <path d=\"M0 0h24v24H0V0z\" fill=\"none\"/>\n",
              "    <path d=\"M18.56 5.44l.94 2.06.94-2.06 2.06-.94-2.06-.94-.94-2.06-.94 2.06-2.06.94zm-11 1L8.5 8.5l.94-2.06 2.06-.94-2.06-.94L8.5 2.5l-.94 2.06-2.06.94zm10 10l.94 2.06.94-2.06 2.06-.94-2.06-.94-.94-2.06-.94 2.06-2.06.94z\"/><path d=\"M17.41 7.96l-1.37-1.37c-.4-.4-.92-.59-1.43-.59-.52 0-1.04.2-1.43.59L10.3 9.45l-7.72 7.72c-.78.78-.78 2.05 0 2.83L4 21.41c.39.39.9.59 1.41.59.51 0 1.02-.2 1.41-.59l7.78-7.78 2.81-2.81c.8-.78.8-2.07 0-2.86zM5.41 20L4 18.59l7.72-7.72 1.47 1.35L5.41 20z\"/>\n",
              "  </svg>\n",
              "      </button>\n",
              "      \n",
              "  <style>\n",
              "    .colab-df-container {\n",
              "      display:flex;\n",
              "      flex-wrap:wrap;\n",
              "      gap: 12px;\n",
              "    }\n",
              "\n",
              "    .colab-df-convert {\n",
              "      background-color: #E8F0FE;\n",
              "      border: none;\n",
              "      border-radius: 50%;\n",
              "      cursor: pointer;\n",
              "      display: none;\n",
              "      fill: #1967D2;\n",
              "      height: 32px;\n",
              "      padding: 0 0 0 0;\n",
              "      width: 32px;\n",
              "    }\n",
              "\n",
              "    .colab-df-convert:hover {\n",
              "      background-color: #E2EBFA;\n",
              "      box-shadow: 0px 1px 2px rgba(60, 64, 67, 0.3), 0px 1px 3px 1px rgba(60, 64, 67, 0.15);\n",
              "      fill: #174EA6;\n",
              "    }\n",
              "\n",
              "    [theme=dark] .colab-df-convert {\n",
              "      background-color: #3B4455;\n",
              "      fill: #D2E3FC;\n",
              "    }\n",
              "\n",
              "    [theme=dark] .colab-df-convert:hover {\n",
              "      background-color: #434B5C;\n",
              "      box-shadow: 0px 1px 3px 1px rgba(0, 0, 0, 0.15);\n",
              "      filter: drop-shadow(0px 1px 2px rgba(0, 0, 0, 0.3));\n",
              "      fill: #FFFFFF;\n",
              "    }\n",
              "  </style>\n",
              "\n",
              "      <script>\n",
              "        const buttonEl =\n",
              "          document.querySelector('#df-3b3560c7-8f25-4659-802c-31b16b2e4555 button.colab-df-convert');\n",
              "        buttonEl.style.display =\n",
              "          google.colab.kernel.accessAllowed ? 'block' : 'none';\n",
              "\n",
              "        async function convertToInteractive(key) {\n",
              "          const element = document.querySelector('#df-3b3560c7-8f25-4659-802c-31b16b2e4555');\n",
              "          const dataTable =\n",
              "            await google.colab.kernel.invokeFunction('convertToInteractive',\n",
              "                                                     [key], {});\n",
              "          if (!dataTable) return;\n",
              "\n",
              "          const docLinkHtml = 'Like what you see? Visit the ' +\n",
              "            '<a target=\"_blank\" href=https://colab.research.google.com/notebooks/data_table.ipynb>data table notebook</a>'\n",
              "            + ' to learn more about interactive tables.';\n",
              "          element.innerHTML = '';\n",
              "          dataTable['output_type'] = 'display_data';\n",
              "          await google.colab.output.renderOutput(dataTable, element);\n",
              "          const docLink = document.createElement('div');\n",
              "          docLink.innerHTML = docLinkHtml;\n",
              "          element.appendChild(docLink);\n",
              "        }\n",
              "      </script>\n",
              "    </div>\n",
              "  </div>\n",
              "  "
            ]
          },
          "metadata": {},
          "execution_count": 7
        }
      ]
    },
    {
      "cell_type": "markdown",
      "source": [
        "### ver todas las columnas"
      ],
      "metadata": {
        "id": "egac0DaFanRU"
      }
    },
    {
      "cell_type": "code",
      "source": [
        "z.columns"
      ],
      "metadata": {
        "colab": {
          "base_uri": "https://localhost:8080/"
        },
        "id": "SASrWKbQ_ere",
        "outputId": "ce134946-32f2-42f3-ad4a-e96993e2d5d2"
      },
      "execution_count": 10,
      "outputs": [
        {
          "output_type": "execute_result",
          "data": {
            "text/plain": [
              "Index(['APERTURA', 'MES', 'DIA', 'RADICADO', 'TIPO_REQ', 'CAUSA', 'SUBCAUSA',\n",
              "       'RESUMEN', 'TEXT_MINING', 'MEDIO_INGRESO', 'FUENTE_HOMOLOGADO',\n",
              "       'ESTADO', 'ORIGEN', 'CREADO_POR', 'AGRUPADOR', 'LINEA', 'NEGOCIO'],\n",
              "      dtype='object')"
            ]
          },
          "metadata": {},
          "execution_count": 10
        }
      ]
    },
    {
      "cell_type": "markdown",
      "source": [
        "### Cuantos registros tiene la hoja, este caso estamos mirando la hoja de calculo  \"bd\""
      ],
      "metadata": {
        "id": "T555cz3EcBtZ"
      }
    },
    {
      "cell_type": "code",
      "source": [
        "z.shape"
      ],
      "metadata": {
        "colab": {
          "base_uri": "https://localhost:8080/"
        },
        "id": "rsH1spqaEJBh",
        "outputId": "89e91b1c-1f78-4d26-b6d5-4fcbcaf9cebc"
      },
      "execution_count": 11,
      "outputs": [
        {
          "output_type": "execute_result",
          "data": {
            "text/plain": [
              "(180875, 17)"
            ]
          },
          "metadata": {},
          "execution_count": 11
        }
      ]
    },
    {
      "cell_type": "code",
      "source": [
        "type(z.RESUMEN.values[0])"
      ],
      "metadata": {
        "colab": {
          "base_uri": "https://localhost:8080/"
        },
        "id": "1J_K2RmAEMN_",
        "outputId": "9c1cb35c-ddce-4fc7-d4dc-9f1b05aa2571"
      },
      "execution_count": 12,
      "outputs": [
        {
          "output_type": "execute_result",
          "data": {
            "text/plain": [
              "str"
            ]
          },
          "metadata": {},
          "execution_count": 12
        }
      ]
    },
    {
      "cell_type": "markdown",
      "source": [
        "###Agregar la columna RESUMEN en un \"Array\"\n",
        "\n",
        "###Array:Estructura de datos que alamcena multiples valores de todo tipo, estas estructuras de datos son mutables y tienen sus propiedades y metodos."
      ],
      "metadata": {
        "id": "xopQGa8_auZC"
      }
    },
    {
      "cell_type": "code",
      "source": [
        "a=z.RESUMEN.unique()\n",
        "print(a)\n",
        "\n"
      ],
      "metadata": {
        "colab": {
          "base_uri": "https://localhost:8080/"
        },
        "id": "dm3xHLc-EzfB",
        "outputId": "e6b8f57e-9828-4ff0-db7d-e1714d8c4cd2"
      },
      "execution_count": 13,
      "outputs": [
        {
          "output_type": "stream",
          "name": "stdout",
          "text": [
            "['Empresa: JARAMILLO PATIÑO MARIA VICTORIA\\nNit:  32317276\\nContacto: JARAMILLO PATIÑO MARIA VICTORIA\\nCédula:  32317276 \\nTels de contacto: 31 7190080\\nCorreo, maviljapa@hotmail.com\\nDirección de Servicio:CL 74 CR 64 B -32\\nMunicipio/Ciudad: MEDELLÍN\\nBarrio (Aplica par Regionales): Caribe\\nId: 900ac178-9c62-43b6-aba0-29789ff5f2de\\nLogin: mgrajalp\\nNombre del Asesor: Mariana Grajales Posada\\nCódigo del Asesor:\\nSac Pymes \\nDescripción exacta de la Queja Servicio: Usuario se comunica donde indica que tubo una migración de cobre a análoga y les están cobrando los servicios pero ella indica que no está llegando la factura por 22.500 muy puntual, ella indica que ha pagado facturas muy altas aproximadamente de 300.000 y no sabe debido a que si no contaban con este servicio.'\n",
            " 'NOMBRE CLARA PATRICIA ROJAS GAÑAN\\nCEDULA 33992780\\nOBSERVACION CLIENTE SE ACERCA A LA OFICINA MUY MOLESTA  EN LE FORMATO ADJUNTO SE EXPLICA EL CASO POR FAVOR REVISAR DOCUMENTO EN EL QUE SE DESCRIBE LA PETICION'\n",
            " '\\nQueja Factura APC:\\n\\nDescripcion detallada:\\nTelefono de contacto:3157807547\\nCelular:3157807547\\nMotivo del reclamo: PAGO DE DOS SERVICIOS EN UNA MISMA CASA\\nArgumento del Usuario:EL USUARIO SE QUEJA POR TENER QUE PAGAR DOS FACTURACIONES CUAN DO ELLA HIZO EL RETIRO Y EL FUNCIONARIO PRESENCIAL FUE EL QUE NO CANCELO EL SERVICIO ANTERIOR'\n",
            " ...\n",
            " 'Cancelar linea por robo Hechos en que fundamenta su petición|| cancelar linea ya que hurtaron el celuylar '\n",
            " 'ID LLamada: 12615328\\nAsesor que realiza la solicitud: ahenaoru\\nNombre de quién llama: Maria Cristina Coronell Pimienta\\nNúmero de CC de quién llama: 32610034\\nAutoriza que la notificación de su PQR se realice por correo electrónico?: SI\\nCorreo para envío de respuesta: mcriscor_p@hotmail.com\\nAutoriza que la respuesta le sea enviada por el servicio de mensajería Física?: NO\\nNúmero de Contácto: 3013895231\\nMóvil del reclamo o inconveniente: 3013895231\\nPor qué no se brindó SPC?: a petición del usuario\\nMotivo de Petición: Otro tipo de Peticion\\nRequerimiento: Recurso/ roaming internacional/ facturación Requiero revocar el cobro del cargo adicional por el servicio de Romming Internacional en la factura del 24 de enero al 24 de febrero de 2023. Ya que ese servicio fue utilizado en el periodo del 24 de diciembre al 4 de enero de 2023, el cual pertenece al plan ilimitado de $100 mil . El cual tome por dos meses de noviembre y diciembre y no es justo que me cobren adicional ese valor. Además cuando tomé el plan ilimitado de 100 mil en noviembre, claramente me indicaron que incluía el servicio de Romming gratis. Hasta pregunté el costo por fuera del plan que yo tenia de 50 mil y me dijeron que costaba $7.500 por día y eso es justo lo que me están cobrando 10 días de uso del servicio de Romming del 24 de noviembre al 4 de enero de 2023 a razón de 7.500. Entonces para que pague durante dos meses el plan ilimitado de 100 mil. Para que ahora me cibren 89 mil incluyendo el iva por el servicio de Romming. Y no es consumo adicional como me respondieron en la respuesta del reclamo. Están abusando de su posición dominante y me están generando un perjuicio económico. Solicito se revoque ese cobro y no me suspendan el servicio. De no serlo Solicito la cancelación de mi plan y mi traslado a otro operador. Ácudo al Recurso de Reposición y en Subsidio de Apelación ante la SIC sobre la respuesta del radicado CUN 4331-23-0000037546'\n",
            " 'LINEA INEXISTENTE Hechos en que fundamenta su petición|| LINEA INEXISTENTE']\n"
          ]
        }
      ]
    },
    {
      "cell_type": "markdown",
      "source": [
        "###Agregar columna \"meaning\" en un array, despues almacenarla en una variable \"b\".\n"
      ],
      "metadata": {
        "id": "G88lmKNy_04O"
      }
    },
    {
      "cell_type": "code",
      "source": [
        "b=y.meaning.unique()\n",
        "print(b)"
      ],
      "metadata": {
        "colab": {
          "base_uri": "https://localhost:8080/"
        },
        "id": "vC-l0OvK_0ZN",
        "outputId": "f42f15ea-5390-4366-d43d-af94ff1e55d9"
      },
      "execution_count": 21,
      "outputs": [
        {
          "output_type": "stream",
          "name": "stdout",
          "text": [
            "['Activación / desactivación de servicios adicionales'\n",
            " 'Activar / desactivar número privado'\n",
            " 'Actualizar datos cliente / contrato' 'Aplicación de Pagos'\n",
            " 'Bloqueo / desbloqueo por Robo / pérdida' 'Bloqueo/ Desbloqueo de imei'\n",
            " 'Bloqueo/ Desbloqueo de imei duplicado' 'Cambio de chip'\n",
            " 'Cambio de Ciclo' 'Cambio de domicilio' 'Cambio de número'\n",
            " 'Cambio de Número' 'Cambio de Suscriptor' 'Cambio equipo a Wifi'\n",
            " 'Cancelación no realizada' 'Cesión de contrato'\n",
            " 'Crear/ Retirar-Descuento' 'Crear/ Retirar-Serv Suscrito'\n",
            " 'Devolución de equipo por garantía' 'Devolución Equipos'\n",
            " 'Duplicado de factura' 'Gestión Central de Riesgo'\n",
            " 'Gestión de pedidos inconsistentes PUMED' 'Habeas data'\n",
            " 'Inclusión / exclusión listas negras' 'Información factura'\n",
            " 'Información fallas en servicio' 'Información habeas data'\n",
            " 'Jerarquias de Cuenta' 'Movimiento interno de redes'\n",
            " 'Orden de Reconexión' 'Paz y salvo' 'Petición Troncal SIP Móvil'\n",
            " 'Peticiones ATP corporativo' 'Portabilidad Numérica'\n",
            " 'Reconfiguración de oferta' 'Reintegro de dinero'\n",
            " 'Solicitud de Activación de Líneas' 'Solicitud de soportes'\n",
            " 'Solicitud detalles de consumo' 'Solicitudes citofonía virtual'\n",
            " 'Solicitudes de cartera' 'Solicitudes REDIN' 'Solicitudes roaming'\n",
            " 'Suspe/Recon por suscriptor' 'Tramitar Cambio Tecnología'\n",
            " 'Tramitar Empaquetamiento' 'Tramitar Grabación'\n",
            " 'Transferencia de pagos y ajustes' 'Unificar/Separar Producto'\n",
            " 'Cobro de conexión' 'Cobro posterior a la cancelación'\n",
            " 'Cobro posterior a la portación numérica'\n",
            " 'Cobro posterior al cambio a prepago' 'Suplantación'\n",
            " 'Garantía de equipo terminal' 'Inconformidad por cobros no acordados'\n",
            " 'Inconformidad por reporte a centrales de riesgo'\n",
            " 'Inconsistencia en pagos' 'Incremento tarifario'\n",
            " 'No autorización para roaming' 'No autorización para SMS'\n",
            " 'No reconoce el consumo' 'No traslado a nuevo domicilio' 'Operadores'\n",
            " 'Servicios no solicitados' 'Solicitud de compensación por fallas'\n",
            " 'Adecuación de Redes/Postes' 'Daños ocasionados por trabajo'\n",
            " 'Inconf. Act - Desact Serv Supl' 'Inconf. Act. Lineas o Equipos'\n",
            " 'Inconformidad con la venta' 'Inconformidad con SMS publicitarios'\n",
            " 'Insatisfacción por trabajo realizado' 'Medios de atención al usuario'\n",
            " 'Oportunidad en entrega de la factura' 'Quejas equipos por Bandas'\n",
            " 'Quejas equipos por Hurto' 'Quejas equipos por Registro'\n",
            " 'Quejas habeas data' 'Ajustes por Cambio de Plan'\n",
            " 'Ajustes por Cancelación de Servicios' 'Asignacion de Recursos'\n",
            " 'Desconciliaciones' 'Descuentos' 'Factura Manual' 'Intereses por Mora '\n",
            " 'Ofertas no Configuradas' 'Ofertas no aplicadas'\n",
            " 'Solicitud de financiación' 'Inconformidad con financiación'\n",
            " 'Cobro posterior a la portación' 'Portabilidad numérica'\n",
            " 'Ofertas especiales' 'Servicios de autogestión' 'Paz y Salvo'\n",
            " 'Cobro por operadores' 'Reactivar Línea' 'Cambio de plan'\n",
            " 'Migración a Prepago' 'Estado de Cuenta' 'Centrales de Riesgo' 'Roaming'\n",
            " 'Publicidad engañosa' 'SMS Promocionales' 'Envio de factura'\n",
            " 'Suscripciones' 'Pago no aplicado' 'Servicios Prepago' 'PRIME' 'Deezer'\n",
            " 'Prepago' 'Agencias de Cobranza' 'PORT IN' 'PORT OUT' 'Traslado'\n",
            " 'Suspensiones' 'Retiro no oportuno' 'Reporte a centrales de riesgo'\n",
            " 'Recuperación Equipos' 'Recuperación de cobro' 'Plan errado'\n",
            " 'Pago no aplicado / Pago Errado' 'Migra/cambioTec' 'Mala asesoria'\n",
            " 'Hurto de cable' 'Estrato' 'Error Sistema'\n",
            " 'Empaqueta/Desempaqueta Servicios' 'Descuento no aplicado'\n",
            " 'Depuración saldos a favor y saldos menores' 'Decodificador' 'Daños'\n",
            " 'Covid-19' 'Consumos terceros' 'Cobros no recurrentes'\n",
            " 'cobros no recurrentes' 'Cobros adicionales' 'Cobro de conexión '\n",
            " 'Canales adicionales' 'Portabilidad' 'Cambio de plan errado'\n",
            " 'Consumos adicionales' 'Descuento/Promocion' 'Cobro errado CB'\n",
            " 'Error sistema/indisponibilidad' 'Recursos no entregados'\n",
            " 'cobros duplicados' 'Transferencia/Pagos' 'prestamo'\n",
            " 'Suscripciones paquetes' 'Cobros duplicados' 'Recursos'\n",
            " 'Proceso no ejecutado/Mal ejecutado' 'Vigencia recursos'\n",
            " 'Comprar paquetes' 'Error Sistema/Indisponibilidad' 'DP (QF- PT-QS) ']\n"
          ]
        }
      ]
    },
    {
      "cell_type": "markdown",
      "source": [
        "###Agregar columna \"word\" en un array, despues almacenarla en una variable \"c\"."
      ],
      "metadata": {
        "id": "hZGJuVKUAqwA"
      }
    },
    {
      "cell_type": "code",
      "source": [
        "c=y.word.unique()\n",
        "print(c)"
      ],
      "metadata": {
        "id": "EzY2U-HAA7EJ"
      },
      "execution_count": null,
      "outputs": []
    },
    {
      "cell_type": "markdown",
      "source": [
        "### Crear blucle \"for\" para recorrer el arreglo"
      ],
      "metadata": {
        "id": "bMJfMhp5a4CE"
      }
    },
    {
      "cell_type": "markdown",
      "source": [
        "### Creacion de funcion  \"Textmining\" que va a recibir como parametro el arrego  almacenado en la variable \"a\", la funcion \"Textmining\" por medio de un bucle for debera recorrer el arreglo , si encuentra en el recorrido palabras que tengan relacion con el diccionario , me almacenara en \"keywords\" la palabra clave que despues debera colocarse en la columna \"TEXTMINING\""
      ],
      "metadata": {
        "id": "Ag5YFr6_9WZo"
      }
    },
    {
      "cell_type": "code",
      "source": [
        "def Textmining(b):\n",
        " keywords=\"\"\n",
        " for i in b:\n",
        "  if(any(b)==\"cliente\"):\n",
        "     keywords=\"usuario\"\n",
        "  elif (any(b)==\"retiro\"):\n",
        "     keywords=\"cancelaciones\"\n",
        "  elif (any(b)==\"\"):\n",
        "     \n",
        " \n",
        "  \n",
        "\n",
        "\n",
        "\n",
        "  \n",
        "\n",
        "  "
      ],
      "metadata": {
        "id": "7s0lqFpXbAxR",
        "colab": {
          "base_uri": "https://localhost:8080/",
          "height": 131
        },
        "outputId": "85e17411-3f13-4e84-d9a4-3bf3f2f4c7e3"
      },
      "execution_count": 20,
      "outputs": [
        {
          "output_type": "error",
          "ename": "SyntaxError",
          "evalue": "ignored",
          "traceback": [
            "\u001b[0;36m  File \u001b[0;32m\"<ipython-input-20-472908ac1165>\"\u001b[0;36m, line \u001b[0;32m5\u001b[0m\n\u001b[0;31m    return keywords=\"usuario\"\u001b[0m\n\u001b[0m                   ^\u001b[0m\n\u001b[0;31mSyntaxError\u001b[0m\u001b[0;31m:\u001b[0m invalid syntax\n"
          ]
        }
      ]
    },
    {
      "cell_type": "markdown",
      "source": [],
      "metadata": {
        "id": "pr45873cbHs7"
      }
    },
    {
      "cell_type": "markdown",
      "source": [
        "### Palabras clave.\n",
        "### punkt: Es la oracion que vamos a tokenizar.\n",
        "### stropwords: Son las palabras mas comunes en la data.\n",
        "### wordnet: Es el diccionario de ingles\n",
        "### omw-1.4: Es el multilingual wornet para los demas idiomas.\n",
        "### average_perceptron_tagger: Se utiliza para etiquetar y conectar las ### palabras de una oracion con el parrafo."
      ],
      "metadata": {
        "id": "3E3BnqLbbk6z"
      }
    }
  ]
}